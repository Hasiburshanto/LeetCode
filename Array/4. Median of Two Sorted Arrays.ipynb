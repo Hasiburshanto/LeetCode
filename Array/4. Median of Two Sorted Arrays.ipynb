{
 "cells": [
  {
   "cell_type": "code",
   "execution_count": 1,
   "id": "7fda7394-f94e-4564-bb63-76947bb157d6",
   "metadata": {},
   "outputs": [
    {
     "name": "stdout",
     "output_type": "stream",
     "text": [
      "Input: nums1 = [1, 3], nums2 = [2]\n",
      "Output: 2.0\n",
      "\n",
      "Input: nums1 = [1, 2], nums2 = [3, 4]\n",
      "Output: 2.5\n",
      "\n"
     ]
    }
   ],
   "source": [
    "# Problem: Median of Two Sorted Arrays\n",
    "# Given two sorted arrays `nums1` and `nums2` of size `m` and `n` respectively, \n",
    "# return the median of the two sorted arrays.\n",
    "# The overall run time complexity should be O(log (m+n)).\n",
    "\n",
    "# Solution Code\n",
    "class Solution:\n",
    "    def findMedianSortedArrays(self, nums1, nums2):\n",
    "        \"\"\"\n",
    "        :type nums1: List[int]\n",
    "        :type nums2: List[int]\n",
    "        :rtype: float\n",
    "        \"\"\"\n",
    "        # Merge the two arrays and sort them\n",
    "        merged = sorted(nums1 + nums2)\n",
    "        total_len = len(merged)\n",
    "        \n",
    "        # Find the median\n",
    "        if total_len % 2 == 1:\n",
    "            # Odd length, return the middle element\n",
    "            return float(merged[total_len // 2])\n",
    "        else:\n",
    "            # Even length, return the average of the two middle elements\n",
    "            mid1 = total_len // 2 - 1\n",
    "            mid2 = total_len // 2\n",
    "            return (merged[mid1] + merged[mid2]) / 2.0\n",
    "\n",
    "# Testing the Solution\n",
    "solution = Solution()\n",
    "\n",
    "# Example 1\n",
    "nums1 = [1, 3]\n",
    "nums2 = [2]\n",
    "output1 = solution.findMedianSortedArrays(nums1, nums2)\n",
    "print(f\"Input: nums1 = {nums1}, nums2 = {nums2}\\nOutput: {output1}\\n\")\n",
    "\n",
    "# Example 2\n",
    "nums1 = [1, 2]\n",
    "nums2 = [3, 4]\n",
    "output2 = solution.findMedianSortedArrays(nums1, nums2)\n",
    "print(f\"Input: nums1 = {nums1}, nums2 = {nums2}\\nOutput: {output2}\\n\")\n"
   ]
  },
  {
   "cell_type": "code",
   "execution_count": null,
   "id": "97ff3e83-5c3e-47e2-8d9d-42bc58ef7d3f",
   "metadata": {},
   "outputs": [],
   "source": []
  }
 ],
 "metadata": {
  "kernelspec": {
   "display_name": "Python 3 (ipykernel)",
   "language": "python",
   "name": "python3"
  },
  "language_info": {
   "codemirror_mode": {
    "name": "ipython",
    "version": 3
   },
   "file_extension": ".py",
   "mimetype": "text/x-python",
   "name": "python",
   "nbconvert_exporter": "python",
   "pygments_lexer": "ipython3",
   "version": "3.9.6"
  }
 },
 "nbformat": 4,
 "nbformat_minor": 5
}

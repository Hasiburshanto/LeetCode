{
 "cells": [
  {
   "cell_type": "code",
   "execution_count": 15,
   "id": "6dbaae64-632a-47f2-9544-5f448ac9505d",
   "metadata": {},
   "outputs": [],
   "source": [
    "class Solution:\n",
    "    def nextPermutation(self, nums):\n",
    "        i = len(nums) - 2\n",
    "        while i >= 0 and nums[i] >= nums[i + 1]:\n",
    "            i -= 1\n",
    "        if i >= 0:\n",
    "            j = len(nums) - 1\n",
    "            while nums[j] <= nums[i]:\n",
    "                j -= 1\n",
    "            nums[i], nums[j] = nums[j], nums[i]\n",
    "\n",
    "        nums[i + 1:] = reversed(nums[i + 1:])\n",
    "        return nums\n"
   ]
  },
  {
   "cell_type": "code",
   "execution_count": 16,
   "id": "eb10709f-6829-455b-8ce6-662777b6358c",
   "metadata": {},
   "outputs": [
    {
     "name": "stdout",
     "output_type": "stream",
     "text": [
      "Next permutation of [1, 3, 2] is [1, 3, 2]\n",
      "Next permutation of [1, 2, 3] is [1, 2, 3]\n",
      "Next permutation of [1, 5, 1] is [1, 5, 1]\n",
      "Next permutation of [2, 1, 2, 3] is [2, 1, 2, 3]\n"
     ]
    }
   ],
   "source": [
    "# Testing the Solution\n",
    "solution = Solution()\n",
    "\n",
    "# Example 1\n",
    "nums1 = [1, 2, 3]\n",
    "print(\"Next permutation of\", nums1, \"is\", solution.nextPermutation(nums1))  # Expected Output: [1, 3, 2]\n",
    "\n",
    "# Example 2\n",
    "nums2 = [3, 2, 1]\n",
    "print(\"Next permutation of\", nums2, \"is\", solution.nextPermutation(nums2))  # Expected Output: [1, 2, 3]\n",
    "\n",
    "# Example 3\n",
    "nums3 = [1, 1, 5]\n",
    "print(\"Next permutation of\", nums3, \"is\", solution.nextPermutation(nums3))  # Expected Output: [1, 5, 1]\n",
    "\n",
    "# Example 4\n",
    "nums4 = [1, 3, 2, 2]\n",
    "print(\"Next permutation of\", nums4, \"is\", solution.nextPermutation(nums4))  # Expected Output: [2, 1, 2, 3]\n"
   ]
  },
  {
   "cell_type": "code",
   "execution_count": null,
   "id": "33a21fc2-eafe-4e64-866d-5c543a7093b0",
   "metadata": {},
   "outputs": [],
   "source": []
  }
 ],
 "metadata": {
  "kernelspec": {
   "display_name": "Python 3 (ipykernel)",
   "language": "python",
   "name": "python3"
  },
  "language_info": {
   "codemirror_mode": {
    "name": "ipython",
    "version": 3
   },
   "file_extension": ".py",
   "mimetype": "text/x-python",
   "name": "python",
   "nbconvert_exporter": "python",
   "pygments_lexer": "ipython3",
   "version": "3.9.6"
  }
 },
 "nbformat": 4,
 "nbformat_minor": 5
}

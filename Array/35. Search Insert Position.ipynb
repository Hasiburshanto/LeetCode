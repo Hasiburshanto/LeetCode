{
 "cells": [
  {
   "cell_type": "code",
   "execution_count": 6,
   "id": "529389e7-b5e1-48a3-8a04-30d4b54eba05",
   "metadata": {},
   "outputs": [
    {
     "name": "stdout",
     "output_type": "stream",
     "text": [
      "Input: nums = [1, 3], target = 2\n",
      "Output: 0\n",
      "\n"
     ]
    }
   ],
   "source": [
    "class Solution(object):\n",
    "    def searchInsert(self, nums, target):\n",
    "        \"\"\"\n",
    "        :type nums: List[int]\n",
    "        :type target: int\n",
    "        :rtype: int\n",
    "        \"\"\"\n",
    "        left, right = 0, len(nums) - 1\n",
    "        mid = -1\n",
    "        while left<= right :\n",
    "            mid = left + (right - left) // 2\n",
    "            if nums[mid] == target:\n",
    "                return mid\n",
    "            elif nums[mid] > target :\n",
    "                right = mid - 1\n",
    "            else :\n",
    "                left = mid + 1\n",
    "                \n",
    "\n",
    "        return left\n",
    "\n",
    "solution = Solution()\n",
    "\n",
    "# Example 1\n",
    "nums1 = [1,3]\n",
    "target1 = \n",
    "output1 = solution.searchInsert(nums1, target1)\n",
    "print(f\"Input: nums = {nums1}, target = {target1}\\nOutput: {output1}\\n\")\n",
    "\n"
   ]
  },
  {
   "cell_type": "code",
   "execution_count": null,
   "id": "707e2eff-4dea-4cc8-9ff2-dff9e3cc8e3d",
   "metadata": {},
   "outputs": [],
   "source": []
  }
 ],
 "metadata": {
  "kernelspec": {
   "display_name": "Python 3 (ipykernel)",
   "language": "python",
   "name": "python3"
  },
  "language_info": {
   "codemirror_mode": {
    "name": "ipython",
    "version": 3
   },
   "file_extension": ".py",
   "mimetype": "text/x-python",
   "name": "python",
   "nbconvert_exporter": "python",
   "pygments_lexer": "ipython3",
   "version": "3.9.6"
  }
 },
 "nbformat": 4,
 "nbformat_minor": 5
}

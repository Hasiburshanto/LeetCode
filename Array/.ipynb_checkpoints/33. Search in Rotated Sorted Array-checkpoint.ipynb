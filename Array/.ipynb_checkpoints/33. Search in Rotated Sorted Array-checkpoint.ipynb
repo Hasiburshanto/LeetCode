{
 "cells": [
  {
   "cell_type": "code",
   "execution_count": 2,
   "id": "3231d186-7e12-459c-b01f-a389cb2b5bdd",
   "metadata": {},
   "outputs": [
    {
     "name": "stdout",
     "output_type": "stream",
     "text": [
      "4\n",
      "-1\n",
      "-1\n"
     ]
    }
   ],
   "source": [
    "# Problem Description:\n",
    "# Given an integer array `nums` sorted in ascending order, which is possibly rotated at an unknown pivot,\n",
    "# and an integer `target`, this function returns the index of `target` if it is in `nums`, or -1 if not.\n",
    "# The function implements an O(log n) binary search algorithm to ensure efficiency.\n",
    "\n",
    "# Example:\n",
    "# Input: nums = [4,5,6,7,0,1,2], target = 0\n",
    "# Output: 4\n",
    "# Explanation: The element 0 is located at index 4 in the array.\n",
    "\n",
    "# Code implementation:\n",
    "\n",
    "def search(nums, target):\n",
    "    left, right = 0, len(nums) - 1\n",
    "\n",
    "    while left <= right:\n",
    "        mid = (left + right) // 2\n",
    "\n",
    "        # Check if the mid element is the target\n",
    "        if nums[mid] == target:\n",
    "            return mid\n",
    "\n",
    "        # Determine if the left side is sorted\n",
    "        if nums[left] <= nums[mid]:\n",
    "            # If the target is in the sorted left side\n",
    "            if nums[left] <= target < nums[mid]:\n",
    "                right = mid - 1\n",
    "            else:\n",
    "                left = mid + 1\n",
    "        else:\n",
    "            # If the target is in the sorted right side\n",
    "            if nums[mid] < target <= nums[right]:\n",
    "                left = mid + 1\n",
    "            else:\n",
    "                right = mid - 1\n",
    "\n",
    "    # Target was not found\n",
    "    return -1\n",
    "\n",
    "# Test cases to validate the solution\n",
    "if __name__ == \"__main__\":\n",
    "    print(search([4,5,6,7,0,1,2], 0))  # Expected Output: 4\n",
    "    print(search([4,5,6,7,0,1,2], 3))  # Expected Output: -1\n",
    "    print(search([1], 0))              # Expected Output: -1\n"
   ]
  },
  {
   "cell_type": "code",
   "execution_count": null,
   "id": "a73d92bf-d05b-4278-91b5-27a3a191fb51",
   "metadata": {},
   "outputs": [],
   "source": []
  }
 ],
 "metadata": {
  "kernelspec": {
   "display_name": "Python 3 (ipykernel)",
   "language": "python",
   "name": "python3"
  },
  "language_info": {
   "codemirror_mode": {
    "name": "ipython",
    "version": 3
   },
   "file_extension": ".py",
   "mimetype": "text/x-python",
   "name": "python",
   "nbconvert_exporter": "python",
   "pygments_lexer": "ipython3",
   "version": "3.9.6"
  }
 },
 "nbformat": 4,
 "nbformat_minor": 5
}

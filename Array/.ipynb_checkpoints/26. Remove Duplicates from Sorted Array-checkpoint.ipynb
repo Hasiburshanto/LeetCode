{
 "cells": [
  {
   "cell_type": "code",
   "execution_count": 1,
   "id": "3b14319e-ccb2-4d58-a782-f007e76c744c",
   "metadata": {},
   "outputs": [
    {
     "name": "stdout",
     "output_type": "stream",
     "text": [
      "Test case 1:\n",
      "Input: [1, 1, 2]\n",
      "Expected unique count (k): 2\n",
      "Actual unique count (k): 2\n",
      "Expected nums[:k]: [1, 2]\n",
      "Actual nums[:k]: [1, 2]\n",
      "Pass: True\n",
      "\n",
      "Test case 2:\n",
      "Input: [0, 0, 1, 1, 1, 2, 2, 3, 3, 4]\n",
      "Expected unique count (k): 5\n",
      "Actual unique count (k): 5\n",
      "Expected nums[:k]: [0, 1, 2, 3, 4]\n",
      "Actual nums[:k]: [0, 1, 2, 3, 4]\n",
      "Pass: True\n",
      "\n",
      "Test case 3:\n",
      "Input: [1, 2, 3, 4, 5]\n",
      "Expected unique count (k): 5\n",
      "Actual unique count (k): 5\n",
      "Expected nums[:k]: [1, 2, 3, 4, 5]\n",
      "Actual nums[:k]: [1, 2, 3, 4, 5]\n",
      "Pass: True\n",
      "\n",
      "Test case 4:\n",
      "Input: [1, 1, 1, 1, 1]\n",
      "Expected unique count (k): 1\n",
      "Actual unique count (k): 1\n",
      "Expected nums[:k]: [1]\n",
      "Actual nums[:k]: [1]\n",
      "Pass: True\n",
      "\n",
      "Test case 5:\n",
      "Input: []\n",
      "Expected unique count (k): 0\n",
      "Actual unique count (k): 0\n",
      "Expected nums[:k]: []\n",
      "Actual nums[:k]: []\n",
      "Pass: True\n",
      "\n"
     ]
    }
   ],
   "source": [
    "def removeDuplicates(nums):\n",
    "    if not nums:\n",
    "        return 0\n",
    "    \n",
    "    i = 0  # pointer to track unique elements\n",
    "    \n",
    "    for j in range(1, len(nums)):\n",
    "        if nums[j] != nums[i]:\n",
    "            i += 1\n",
    "            nums[i] = nums[j]\n",
    "    \n",
    "    # i + 1 is the count of unique elements\n",
    "    return i + 1\n",
    "\n",
    "# Test cases\n",
    "def test_removeDuplicates():\n",
    "    test_cases = [\n",
    "        ([1, 1, 2], 2, [1, 2]),\n",
    "        ([0, 0, 1, 1, 1, 2, 2, 3, 3, 4], 5, [0, 1, 2, 3, 4]),\n",
    "        ([1, 2, 3, 4, 5], 5, [1, 2, 3, 4, 5]),\n",
    "        ([1, 1, 1, 1, 1], 1, [1]),\n",
    "        ([], 0, [])\n",
    "    ]\n",
    "    \n",
    "    for i, (nums, expected_k, expected_nums) in enumerate(test_cases):\n",
    "        nums_copy = nums[:]  # Create a copy to avoid modifying the original test data\n",
    "        k = removeDuplicates(nums_copy)\n",
    "        print(f\"Test case {i + 1}:\")\n",
    "        print(f\"Input: {nums}\")\n",
    "        print(f\"Expected unique count (k): {expected_k}\")\n",
    "        print(f\"Actual unique count (k): {k}\")\n",
    "        print(f\"Expected nums[:k]: {expected_nums}\")\n",
    "        print(f\"Actual nums[:k]: {nums_copy[:k]}\")\n",
    "        print(f\"Pass: {k == expected_k and nums_copy[:k] == expected_nums}\\n\")\n",
    "\n",
    "# Run tests\n",
    "test_removeDuplicates()\n"
   ]
  },
  {
   "cell_type": "code",
   "execution_count": null,
   "id": "f9afc360-2229-4ce7-821f-1b016be5416a",
   "metadata": {},
   "outputs": [],
   "source": []
  }
 ],
 "metadata": {
  "kernelspec": {
   "display_name": "Python 3 (ipykernel)",
   "language": "python",
   "name": "python3"
  },
  "language_info": {
   "codemirror_mode": {
    "name": "ipython",
    "version": 3
   },
   "file_extension": ".py",
   "mimetype": "text/x-python",
   "name": "python",
   "nbconvert_exporter": "python",
   "pygments_lexer": "ipython3",
   "version": "3.9.6"
  }
 },
 "nbformat": 4,
 "nbformat_minor": 5
}

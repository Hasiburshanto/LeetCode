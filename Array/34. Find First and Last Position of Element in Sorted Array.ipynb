{
 "cells": [
  {
   "cell_type": "code",
   "execution_count": 38,
   "id": "49b68ccd-db5d-4b28-a38f-97123d1d066a",
   "metadata": {},
   "outputs": [],
   "source": [
    "class Solution(object):\n",
    "    def searchRange(self, nums, target):\n",
    "        \"\"\"\n",
    "        :type nums: List[int]\n",
    "        :type target: int\n",
    "        :rtype: List[int]\n",
    "        \"\"\"\n",
    "        left, right = 0, len(nums) - 1\n",
    "        length = len(nums)\n",
    "        index = -1\n",
    "        while left <= right:\n",
    "            mid = left + (right - left) // 2\n",
    "            if nums[mid] == target :\n",
    "                index = mid\n",
    "                break\n",
    "            if nums[mid] > target:\n",
    "                right = mid - 1\n",
    "            else:\n",
    "                left = mid + 1\n",
    "        if index == -1:\n",
    "            return [-1,-1]\n",
    "            \n",
    "        print(index)\n",
    "        \n",
    "        left,right = index , index\n",
    "        \n",
    "        while left > 0 and nums[left - 1] == target:\n",
    "            left -= 1\n",
    "        while right < len(nums) - 1 and nums[right + 1] == target:\n",
    "            right += 1 \n",
    "        return [left,right]   \n",
    "        "
   ]
  },
  {
   "cell_type": "code",
   "execution_count": 39,
   "id": "db07d8c0-833a-4efb-aece-0128c273f3a8",
   "metadata": {},
   "outputs": [
    {
     "name": "stdout",
     "output_type": "stream",
     "text": [
      "0\n",
      "Input: nums = [1], target = 1\n",
      "Output: [0, 0]\n",
      "\n"
     ]
    }
   ],
   "source": [
    "solution = Solution()\n",
    "\n",
    "# Example 1\n",
    "nums1 = [1]\n",
    "target1 = 1\n",
    "output1 = solution.searchRange(nums1, target1)\n",
    "print(f\"Input: nums = {nums1}, target = {target1}\\nOutput: {output1}\\n\")\n"
   ]
  },
  {
   "cell_type": "code",
   "execution_count": null,
   "id": "87a82f41-8275-434c-b71b-70a53c7294c0",
   "metadata": {},
   "outputs": [],
   "source": []
  }
 ],
 "metadata": {
  "kernelspec": {
   "display_name": "Python 3 (ipykernel)",
   "language": "python",
   "name": "python3"
  },
  "language_info": {
   "codemirror_mode": {
    "name": "ipython",
    "version": 3
   },
   "file_extension": ".py",
   "mimetype": "text/x-python",
   "name": "python",
   "nbconvert_exporter": "python",
   "pygments_lexer": "ipython3",
   "version": "3.9.6"
  }
 },
 "nbformat": 4,
 "nbformat_minor": 5
}

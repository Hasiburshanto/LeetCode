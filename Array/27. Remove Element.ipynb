{
 "cells": [
  {
   "cell_type": "code",
   "execution_count": 1,
   "id": "7623051d-64a1-41bd-8d2f-8be046dd3249",
   "metadata": {},
   "outputs": [
    {
     "name": "stdout",
     "output_type": "stream",
     "text": [
      "Test case 1:\n",
      "Input: [3, 2, 2, 3], val: 3\n",
      "Expected unique count (k): 2\n",
      "Actual unique count (k): 2\n",
      "Expected nums[:k]: [2, 2]\n",
      "Actual nums[:k]: [2, 2]\n",
      "Pass: True\n",
      "\n",
      "Test case 2:\n",
      "Input: [0, 1, 2, 2, 3, 0, 4, 2], val: 2\n",
      "Expected unique count (k): 5\n",
      "Actual unique count (k): 5\n",
      "Expected nums[:k]: [0, 0, 1, 3, 4]\n",
      "Actual nums[:k]: [0, 0, 1, 3, 4]\n",
      "Pass: True\n",
      "\n",
      "Test case 3:\n",
      "Input: [1, 2, 3, 4, 5], val: 6\n",
      "Expected unique count (k): 5\n",
      "Actual unique count (k): 5\n",
      "Expected nums[:k]: [1, 2, 3, 4, 5]\n",
      "Actual nums[:k]: [1, 2, 3, 4, 5]\n",
      "Pass: True\n",
      "\n",
      "Test case 4:\n",
      "Input: [1, 1, 1, 1, 1], val: 1\n",
      "Expected unique count (k): 0\n",
      "Actual unique count (k): 0\n",
      "Expected nums[:k]: []\n",
      "Actual nums[:k]: []\n",
      "Pass: True\n",
      "\n",
      "Test case 5:\n",
      "Input: [], val: 1\n",
      "Expected unique count (k): 0\n",
      "Actual unique count (k): 0\n",
      "Expected nums[:k]: []\n",
      "Actual nums[:k]: []\n",
      "Pass: True\n",
      "\n"
     ]
    }
   ],
   "source": [
    "def removeElement(nums, val):\n",
    "    k = 0  # Pointer for the next non-val element position\n",
    "    \n",
    "    for i in range(len(nums)):\n",
    "        if nums[i] != val:\n",
    "            nums[k] = nums[i]\n",
    "            k += 1\n",
    "    \n",
    "    return k\n",
    "\n",
    "# Test cases\n",
    "def test_removeElement():\n",
    "    test_cases = [\n",
    "        ([3, 2, 2, 3], 3, 2, [2, 2]),\n",
    "        ([0, 1, 2, 2, 3, 0, 4, 2], 2, 5, [0, 1, 4, 0, 3]),\n",
    "        ([1, 2, 3, 4, 5], 6, 5, [1, 2, 3, 4, 5]),  # No elements to remove\n",
    "        ([1, 1, 1, 1, 1], 1, 0, []),               # All elements are val\n",
    "        ([], 1, 0, [])                             # Empty array\n",
    "    ]\n",
    "    \n",
    "    for i, (nums, val, expected_k, expected_nums) in enumerate(test_cases):\n",
    "        nums_copy = nums[:]  # Create a copy to avoid modifying the original test data\n",
    "        k = removeElement(nums_copy, val)\n",
    "        result = sorted(nums_copy[:k])  # Sorting to compare regardless of order\n",
    "        expected_sorted = sorted(expected_nums)\n",
    "        \n",
    "        print(f\"Test case {i + 1}:\")\n",
    "        print(f\"Input: {nums}, val: {val}\")\n",
    "        print(f\"Expected unique count (k): {expected_k}\")\n",
    "        print(f\"Actual unique count (k): {k}\")\n",
    "        print(f\"Expected nums[:k]: {expected_sorted}\")\n",
    "        print(f\"Actual nums[:k]: {result}\")\n",
    "        print(f\"Pass: {k == expected_k and result == expected_sorted}\\n\")\n",
    "\n",
    "# Run tests\n",
    "test_removeElement()\n"
   ]
  },
  {
   "cell_type": "code",
   "execution_count": null,
   "id": "2791ec6b-954d-41fc-a8cb-e5a4056060dd",
   "metadata": {},
   "outputs": [],
   "source": []
  }
 ],
 "metadata": {
  "kernelspec": {
   "display_name": "Python 3 (ipykernel)",
   "language": "python",
   "name": "python3"
  },
  "language_info": {
   "codemirror_mode": {
    "name": "ipython",
    "version": 3
   },
   "file_extension": ".py",
   "mimetype": "text/x-python",
   "name": "python",
   "nbconvert_exporter": "python",
   "pygments_lexer": "ipython3",
   "version": "3.9.6"
  }
 },
 "nbformat": 4,
 "nbformat_minor": 5
}

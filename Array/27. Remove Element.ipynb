{
 "cells": [
  {
   "cell_type": "code",
   "execution_count": null,
   "id": "7623051d-64a1-41bd-8d2f-8be046dd3249",
   "metadata": {},
   "outputs": [],
   "source": []
  }
 ],
 "metadata": {
  "kernelspec": {
   "display_name": "",
   "name": ""
  },
  "language_info": {
   "name": ""
  }
 },
 "nbformat": 4,
 "nbformat_minor": 5
}

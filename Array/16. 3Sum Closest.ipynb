{
 "cells": [
  {
   "cell_type": "code",
   "execution_count": 1,
   "id": "b35f92cb-000a-4459-8d02-ee6b24828628",
   "metadata": {},
   "outputs": [
    {
     "name": "stdout",
     "output_type": "stream",
     "text": [
      "Input: nums = [-4, -1, 1, 2], target = 1\n",
      "Output: 2\n",
      "\n",
      "Input: nums = [0, 0, 0], target = 1\n",
      "Output: 0\n",
      "\n"
     ]
    }
   ],
   "source": [
    "# Problem: 3Sum Closest\n",
    "# Given an integer array `nums` of length n and an integer `target`, \n",
    "# find three integers in `nums` such that the sum is closest to `target`. \n",
    "# Return the sum of the three integers.\n",
    "\n",
    "# Solution Code\n",
    "class Solution:\n",
    "    def threeSumClosest(self, nums, target):\n",
    "        \"\"\"\n",
    "        :type nums: List[int]\n",
    "        :type target: int\n",
    "        :rtype: int\n",
    "        \"\"\"\n",
    "        nums.sort()  # Sort the array to facilitate the two-pointer approach\n",
    "        length = len(nums)\n",
    "        closest = float('inf')  # Initialize the closest sum as infinity\n",
    "\n",
    "        for i in range(length - 2):\n",
    "            # Skip duplicate elements\n",
    "            if i > 0 and nums[i] == nums[i - 1]:\n",
    "                continue\n",
    "            \n",
    "            left, right = i + 1, length - 1\n",
    "            \n",
    "            while left < right:\n",
    "                total = nums[i] + nums[left] + nums[right]\n",
    "                \n",
    "                # Update closest if the current total is closer to the target\n",
    "                if abs(total - target) < abs(closest - target):\n",
    "                    closest = total\n",
    "                \n",
    "                if total == target:\n",
    "                    return target  # If we find an exact match, return immediately\n",
    "                \n",
    "                # Move the pointers based on the comparison with the target\n",
    "                if total < target:\n",
    "                    left += 1\n",
    "                else:\n",
    "                    right -= 1\n",
    "\n",
    "        return closest  # Return the closest sum found\n",
    "\n",
    "# Testing the Solution\n",
    "solution = Solution()\n",
    "\n",
    "# Example 1\n",
    "nums1 = [-1, 2, 1, -4]\n",
    "target1 = 1\n",
    "output1 = solution.threeSumClosest(nums1, target1)\n",
    "print(f\"Input: nums = {nums1}, target = {target1}\\nOutput: {output1}\\n\")\n",
    "\n",
    "# Example 2\n",
    "nums2 = [0, 0, 0]\n",
    "target2 = 1\n",
    "output2 = solution.threeSumClosest(nums2, target2)\n",
    "print(f\"Input: nums = {nums2}, target = {target2}\\nOutput: {output2}\\n\")\n"
   ]
  },
  {
   "cell_type": "code",
   "execution_count": null,
   "id": "f59494f2-463b-473b-b924-9b2fe1c59ac2",
   "metadata": {},
   "outputs": [],
   "source": []
  }
 ],
 "metadata": {
  "kernelspec": {
   "display_name": "Python 3 (ipykernel)",
   "language": "python",
   "name": "python3"
  },
  "language_info": {
   "codemirror_mode": {
    "name": "ipython",
    "version": 3
   },
   "file_extension": ".py",
   "mimetype": "text/x-python",
   "name": "python",
   "nbconvert_exporter": "python",
   "pygments_lexer": "ipython3",
   "version": "3.9.6"
  }
 },
 "nbformat": 4,
 "nbformat_minor": 5
}

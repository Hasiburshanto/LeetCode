{
 "cells": [
  {
   "cell_type": "code",
   "execution_count": 25,
   "id": "4fb0fb0a-fe1e-4e5f-8616-12e601689504",
   "metadata": {},
   "outputs": [
    {
     "name": "stdout",
     "output_type": "stream",
     "text": [
      "Input: nums = [['5', '3', '.', '.', '7', '.', '.', '.', '.'], ['6', '.', '.', '1', '9', '5', '.', '.', '.'], ['.', '9', '8', '.', '.', '.', '.', '6', '.'], ['8', '.', '.', '.', '6', '.', '.', '.', '3'], ['4', '.', '.', '8', '.', '3', '.', '.', '1'], ['7', '.', '.', '.', '2', '.', '.', '.', '6'], ['.', '6', '.', '.', '.', '.', '2', '8', '.'], ['.', '.', '.', '4', '1', '9', '.', '.', '5'], ['.', '.', '.', '.', '8', '.', '.', '7', '9']], \n",
      "Output: True\n",
      "\n"
     ]
    }
   ],
   "source": [
    "class Solution(object):\n",
    "    def isValidSudoku(self, board):\n",
    "        \"\"\"\n",
    "        :type nums: List[int]\n",
    "        :type target: int\n",
    "        :rtype: int\n",
    "        \"\"\"\n",
    "        valid = True\n",
    "        for i in range (3):        \n",
    "            for j in range (3): \n",
    "\n",
    "                nums = []\n",
    "                for k in range (3):\n",
    "                    for l in range(3):\n",
    "                        \n",
    "                        if board[k+i*3][l+j*3] not in nums and board[k+i*3][l+j*3]!= \".\":\n",
    "                            nums.append(board[k+i*3][l+j*3])\n",
    "                            \n",
    "                        elif board[k+i*3][l+j*3] in nums and board[k+i*3][l+j*3]!= \".\":\n",
    "                            return False \n",
    "        for i in range (9):\n",
    "            nums_1 = []\n",
    "            nums_2 = []\n",
    "            for j in range (9):\n",
    "                \n",
    "                if board[i][j] not in nums_1 and board[i][j]!= \".\":\n",
    "                    nums_1.append(board[i][j])\n",
    "                            \n",
    "                elif board[i][j] in nums_1 and board[i][j]!= \".\":\n",
    "                    return False \n",
    "                    \n",
    "\n",
    "                if board[j][i] not in nums_2 and board[j][i]!= \".\":\n",
    "                    nums_2.append(board[j][i])\n",
    "                            \n",
    "                elif board[j][i] in nums_2 and board[j][i]!= \".\":\n",
    "                    return False \n",
    "                \n",
    "        return valid\n",
    "\n",
    "\n"
   ]
  },
  {
   "cell_type": "code",
   "execution_count": 26,
   "id": "d84324f4-0e34-4125-8f1a-6156da95eeab",
   "metadata": {},
   "outputs": [
    {
     "name": "stdout",
     "output_type": "stream",
     "text": [
      "Input: nums = [['5', '3', '.', '.', '7', '.', '.', '.', '.'], ['6', '.', '.', '1', '9', '5', '.', '.', '.'], ['.', '9', '8', '.', '.', '.', '.', '6', '.'], ['8', '.', '.', '.', '6', '.', '.', '.', '3'], ['4', '.', '.', '8', '.', '3', '.', '.', '1'], ['7', '.', '.', '.', '2', '.', '.', '.', '6'], ['.', '6', '.', '.', '.', '.', '2', '8', '.'], ['.', '.', '.', '4', '1', '9', '.', '.', '5'], ['.', '.', '.', '.', '8', '.', '.', '7', '9']], \n",
      "Output: True\n",
      "\n"
     ]
    }
   ],
   "source": [
    "\n",
    "solution = Solution()\n",
    "\n",
    "# Example 1\n",
    "board = [[\"5\",\"3\",\".\",\".\",\"7\",\".\",\".\",\".\",\".\"],[\"6\",\".\",\".\",\"1\",\"9\",\"5\",\".\",\".\",\".\"],[\".\",\"9\",\"8\",\".\",\".\",\".\",\".\",\"6\",\".\"],[\"8\",\".\",\".\",\".\",\"6\",\".\",\".\",\".\",\"3\"],[\"4\",\".\",\".\",\"8\",\".\",\"3\",\".\",\".\",\"1\"],[\"7\",\".\",\".\",\".\",\"2\",\".\",\".\",\".\",\"6\"],[\".\",\"6\",\".\",\".\",\".\",\".\",\"2\",\"8\",\".\"],[\".\",\".\",\".\",\"4\",\"1\",\"9\",\".\",\".\",\"5\"],[\".\",\".\",\".\",\".\",\"8\",\".\",\".\",\"7\",\"9\"]]\n",
    "\n",
    "output1 = solution.isValidSudoku(board)\n",
    "print(f\"Input: nums = {board}, \\nOutput: {output1}\\n\")"
   ]
  },
  {
   "cell_type": "code",
   "execution_count": 32,
   "id": "18479f77-02a0-440f-830c-a70a92e7af41",
   "metadata": {},
   "outputs": [
    {
     "name": "stdout",
     "output_type": "stream",
     "text": [
      "[{'7', '3', '5'}, {'6', '9', '1', '5'}, {'6', '9', '8'}, {'6', '3', '8'}, {'1', '3', '4', '8'}, {'6', '7', '2'}, {'6', '2', '8'}, {'1', '9', '4', '5'}, {'7', '9', '8'}]\n",
      "[{'5', '7', '6', '4', '8'}, {'9', '6', '3'}, {'8'}, {'1', '4', '8'}, {'1', '7', '9', '2', '6', '8'}, {'9', '3', '5'}, {'2'}, {'6', '7', '8'}, {'3', '5', '1', '9', '6'}]\n",
      "[{'3', '5', '9', '6', '8'}, {'7', '9', '1', '5'}, {'6'}, {'7', '4', '8'}, {'6', '3', '2', '8'}, {'6', '1', '3'}, {'6'}, {'1', '9', '4', '8'}, {'5', '7', '9', '2', '8'}]\n",
      "Input: nums = [['5', '3', '.', '.', '7', '.', '.', '.', '.'], ['6', '.', '.', '1', '9', '5', '.', '.', '.'], ['.', '9', '8', '.', '.', '.', '.', '6', '.'], ['8', '.', '.', '.', '6', '.', '.', '.', '3'], ['4', '.', '.', '8', '.', '3', '.', '.', '1'], ['7', '.', '.', '.', '2', '.', '.', '.', '6'], ['.', '6', '.', '.', '.', '.', '2', '8', '.'], ['.', '.', '.', '4', '1', '9', '.', '.', '5'], ['.', '.', '.', '.', '8', '.', '.', '7', '9']], \n",
      "Output: True\n",
      "\n"
     ]
    }
   ],
   "source": [
    "class Solution_2(object):\n",
    "    def isValidSudoku(self, board):\n",
    "        \"\"\"\n",
    "        :type board: List[List[str]]\n",
    "        :rtype: bool\n",
    "        \"\"\"\n",
    "        rows = [set() for _ in range(9)]\n",
    "        cols = [set() for _ in range(9)]\n",
    "        boxes = [set() for _ in range(9)]\n",
    "        \n",
    "        for i in range(9):\n",
    "            for j in range(9):\n",
    "                num = board[i][j]\n",
    "                \n",
    "                # Skip empty cells\n",
    "                if num == '.':\n",
    "                    continue\n",
    "                \n",
    "                # Calculate box index for 3x3 grids\n",
    "                box_index = (i // 3) * 3 + j // 3\n",
    "                \n",
    "                # Check for duplicate in row, column, or box\n",
    "                if num in rows[i] or num in cols[j] or num in boxes[box_index]:\n",
    "                    return False\n",
    "                \n",
    "                # Add num to row, column, and box sets\n",
    "                rows[i].add(num)\n",
    "                cols[j].add(num)\n",
    "                boxes[box_index].add(num)\n",
    "\n",
    "        print(rows)\n",
    "        print(cols)\n",
    "        print(boxes)\n",
    "        return True\n",
    "\n",
    "solution = Solution_2()\n",
    "\n",
    "# Example 1\n",
    "board = [[\"5\",\"3\",\".\",\".\",\"7\",\".\",\".\",\".\",\".\"],[\"6\",\".\",\".\",\"1\",\"9\",\"5\",\".\",\".\",\".\"],[\".\",\"9\",\"8\",\".\",\".\",\".\",\".\",\"6\",\".\"],[\"8\",\".\",\".\",\".\",\"6\",\".\",\".\",\".\",\"3\"],[\"4\",\".\",\".\",\"8\",\".\",\"3\",\".\",\".\",\"1\"],[\"7\",\".\",\".\",\".\",\"2\",\".\",\".\",\".\",\"6\"],[\".\",\"6\",\".\",\".\",\".\",\".\",\"2\",\"8\",\".\"],[\".\",\".\",\".\",\"4\",\"1\",\"9\",\".\",\".\",\"5\"],[\".\",\".\",\".\",\".\",\"8\",\".\",\".\",\"7\",\"9\"]]\n",
    "\n",
    "output1 = solution.isValidSudoku(board)\n",
    "print(f\"Input: nums = {board}, \\nOutput: {output1}\\n\")\n"
   ]
  },
  {
   "cell_type": "code",
   "execution_count": null,
   "id": "61e1fbd8-f0ca-428c-9edf-f965e2c71059",
   "metadata": {},
   "outputs": [],
   "source": []
  }
 ],
 "metadata": {
  "kernelspec": {
   "display_name": "Python 3 (ipykernel)",
   "language": "python",
   "name": "python3"
  },
  "language_info": {
   "codemirror_mode": {
    "name": "ipython",
    "version": 3
   },
   "file_extension": ".py",
   "mimetype": "text/x-python",
   "name": "python",
   "nbconvert_exporter": "python",
   "pygments_lexer": "ipython3",
   "version": "3.9.6"
  }
 },
 "nbformat": 4,
 "nbformat_minor": 5
}

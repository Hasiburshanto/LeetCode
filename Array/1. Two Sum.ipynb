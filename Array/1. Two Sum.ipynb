{
 "cells": [
  {
   "cell_type": "code",
   "execution_count": 2,
   "id": "da2adf06-e275-4881-82cb-065a7c912757",
   "metadata": {},
   "outputs": [
    {
     "name": "stdout",
     "output_type": "stream",
     "text": [
      "{}\n",
      "{2: 0}\n",
      "Input: nums = [2, 7, 11, 15], target = 9\n",
      "Output: [1, 0]\n",
      "\n",
      "{}\n",
      "{3: 0}\n",
      "{3: 0, 2: 1}\n",
      "Input: nums = [3, 2, 4], target = 6\n",
      "Output: [2, 1]\n",
      "\n",
      "{}\n",
      "{3: 0}\n",
      "Input: nums = [3, 3], target = 6\n",
      "Output: [1, 0]\n",
      "\n"
     ]
    },
    {
     "data": {
      "text/plain": [
       "''"
      ]
     },
     "execution_count": 2,
     "metadata": {},
     "output_type": "execute_result"
    }
   ],
   "source": [
    "# Problem: Two Sum\n",
    "# Given an array of integers `nums` and an integer `target`, \n",
    "# return indices of the two numbers such that they add up to `target`.\n",
    "\n",
    "# You may assume that each input would have exactly one solution, \n",
    "# and you may not use the same element twice.\n",
    "# You can return the answer in any order.\n",
    "\n",
    "# Solution Code\n",
    "class Solution:\n",
    "    def twoSum(self, nums, target):\n",
    "        hashmap = {}\n",
    "        for i in range(len(nums)):\n",
    "            complement = target - nums[i]\n",
    "            if complement in hashmap:\n",
    "                return [i, hashmap[complement]]\n",
    "            hashmap[nums[i]] = i\n",
    "        return []\n",
    "\n",
    "# Testing the Solution\n",
    "solution = Solution()\n",
    "\n",
    "# Example 1\n",
    "nums1 = [2, 7, 11, 15]\n",
    "target1 = 9\n",
    "output1 = solution.twoSum(nums1, target1)\n",
    "print(f\"Input: nums = {nums1}, target = {target1}\\nOutput: {output1}\\n\")\n",
    "\n",
    "\n",
    "# Example 2\n",
    "nums2 = [3, 2, 4]\n",
    "target2 = 6\n",
    "output2 = solution.twoSum(nums2, target2)\n",
    "print(f\"Input: nums = {nums2}, target = {target2}\\nOutput: {output2}\\n\")\n",
    "\n",
    "# Example 3\n",
    "nums3 = [3, 3]\n",
    "target3 = 6\n",
    "output3 = solution.twoSum(nums3, target3)\n",
    "print(f\"Input: nums = {nums3}, target = {target3}\\nOutput: {output3}\\n\")\n",
    "\"\"\"\"\"\"\n"
   ]
  },
  {
   "cell_type": "code",
   "execution_count": null,
   "id": "17edb701-a22b-468e-987c-f3efa0476386",
   "metadata": {},
   "outputs": [],
   "source": []
  }
 ],
 "metadata": {
  "kernelspec": {
   "display_name": "Python 3 (ipykernel)",
   "language": "python",
   "name": "python3"
  },
  "language_info": {
   "codemirror_mode": {
    "name": "ipython",
    "version": 3
   },
   "file_extension": ".py",
   "mimetype": "text/x-python",
   "name": "python",
   "nbconvert_exporter": "python",
   "pygments_lexer": "ipython3",
   "version": "3.9.6"
  }
 },
 "nbformat": 4,
 "nbformat_minor": 5
}

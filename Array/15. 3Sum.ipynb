{
 "cells": [
  {
   "cell_type": "code",
   "execution_count": 1,
   "id": "4633ec04-da05-47d6-835b-13025b85b865",
   "metadata": {},
   "outputs": [
    {
     "name": "stdout",
     "output_type": "stream",
     "text": [
      "Input: nums = [-4, -1, -1, 0, 1, 2]\n",
      "Output: [[-1, -1, 2], [-1, 0, 1]]\n",
      "\n",
      "Input: nums = [0, 1, 1]\n",
      "Output: []\n",
      "\n",
      "Input: nums = [0, 0, 0]\n",
      "Output: [[0, 0, 0]]\n",
      "\n"
     ]
    }
   ],
   "source": [
    "# Problem: 3Sum\n",
    "# Given an integer array `nums`, return all the triplets [nums[i], nums[j], nums[k]] \n",
    "# such that i != j, i != k, and j != k, and nums[i] + nums[j] + nums[k] == 0.\n",
    "# The solution set must not contain duplicate triplets.\n",
    "\n",
    "# Solution Code\n",
    "class Solution:\n",
    "    def threeSum(self, nums):\n",
    "        \"\"\"\n",
    "        :type nums: List[int]\n",
    "        :rtype: List[List[int]]\n",
    "        \"\"\"\n",
    "        nums.sort()  # Sort the array to facilitate skipping duplicates\n",
    "        length = len(nums)\n",
    "        result = []\n",
    "\n",
    "        for i in range(length - 2):\n",
    "            # Skip duplicate elements\n",
    "            if i > 0 and nums[i] == nums[i - 1]:\n",
    "                continue\n",
    "            \n",
    "            left = i + 1\n",
    "            right = length - 1\n",
    "            \n",
    "            while left < right:\n",
    "                total = nums[i] + nums[left] + nums[right]\n",
    "\n",
    "                if total == 0:\n",
    "                    result.append([nums[i], nums[left], nums[right]])\n",
    "                    \n",
    "                    # Skip duplicate elements for the left pointer\n",
    "                    while left < right and nums[left] == nums[left + 1]:\n",
    "                        left += 1\n",
    "                    # Skip duplicate elements for the right pointer\n",
    "                    while left < right and nums[right] == nums[right - 1]:\n",
    "                        right -= 1\n",
    "                    \n",
    "                    left += 1\n",
    "                    right -= 1\n",
    "                    \n",
    "                elif total < 0:\n",
    "                    left += 1\n",
    "                else:\n",
    "                    right -= 1\n",
    "\n",
    "        return result\n",
    "\n",
    "# Testing the Solution\n",
    "solution = Solution()\n",
    "\n",
    "# Example 1\n",
    "nums1 = [-1, 0, 1, 2, -1, -4]\n",
    "output1 = solution.threeSum(nums1)\n",
    "print(f\"Input: nums = {nums1}\\nOutput: {output1}\\n\")\n",
    "\n",
    "# Example 2\n",
    "nums2 = [0, 1, 1]\n",
    "output2 = solution.threeSum(nums2)\n",
    "print(f\"Input: nums = {nums2}\\nOutput: {output2}\\n\")\n",
    "\n",
    "# Example 3\n",
    "nums3 = [0, 0, 0]\n",
    "output3 = solution.threeSum(nums3)\n",
    "print(f\"Input: nums = {nums3}\\nOutput: {output3}\\n\")\n"
   ]
  },
  {
   "cell_type": "code",
   "execution_count": null,
   "id": "8f4d484c-e0a5-4fa1-be06-f2ecf85951a3",
   "metadata": {},
   "outputs": [],
   "source": []
  }
 ],
 "metadata": {
  "kernelspec": {
   "display_name": "Python 3 (ipykernel)",
   "language": "python",
   "name": "python3"
  },
  "language_info": {
   "codemirror_mode": {
    "name": "ipython",
    "version": 3
   },
   "file_extension": ".py",
   "mimetype": "text/x-python",
   "name": "python",
   "nbconvert_exporter": "python",
   "pygments_lexer": "ipython3",
   "version": "3.9.6"
  }
 },
 "nbformat": 4,
 "nbformat_minor": 5
}
